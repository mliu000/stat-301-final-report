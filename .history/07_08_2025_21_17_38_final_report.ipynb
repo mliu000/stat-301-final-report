{
 "cells": [
  {
   "cell_type": "markdown",
   "id": "c43c5ae3",
   "metadata": {
    "vscode": {
     "languageId": "r"
    }
   },
   "source": [
    "# **STAT 301 – Final Report - Group 5**"
   ]
  },
  {
   "cell_type": "markdown",
   "id": "8ea7990c",
   "metadata": {
    "vscode": {
     "languageId": "r"
    }
   },
   "source": [
    "---"
   ]
  },
  {
   "cell_type": "markdown",
   "id": "08e58af0",
   "metadata": {},
   "source": [
    "### **Group Members: Mu Ye Liu, Taha Memon, Sajid Mahmood**"
   ]
  },
  {
   "cell_type": "markdown",
   "id": "4f36312a",
   "metadata": {},
   "source": [
    "---"
   ]
  },
  {
   "cell_type": "markdown",
   "id": "b9fb16fc",
   "metadata": {},
   "source": [
    "# **1. Introduction**\n",
    "\n",
    "Airbnb has revolutionized the short-term rental indutry, whereby it provides tourists with housing units through hosts willing to give them shared or full houses. It has matured to be a wolrdwide marketplace with prices being driven by many factors such as the nature of the property and the host, demand created by the guests and genographical loation.\n",
    "\n",
    "It is important to understand the factors of Airbnb price to both the market analysts as well as the host. Strategic pricing can maximize occupancy and revenue to the hosts or can further give insight to the researchers on how the market activities and preferences can interpolate into the sharing economy.\n",
    "\n",
    "The dataset we analyze contains Airbnb listings from several major European cities, including **Amsterdam, Athens, and Berlin**, with separate data for **weekdays and weekends**. Each listing includes information from the following variables:\n",
    "\n",
    "| Variable                    | Description                                               | Type               |\n",
    "|----------------------------|-----------------------------------------------------------|--------------------|\n",
    "| `realSum`                  | Price of the Airbnb listing per night ($USD)              | Numerical          |\n",
    "| `room_type`                | Type of room being offered (e.g., private room)           | Categorical        |\n",
    "| `room_shared`              | Whether or not the room is shared                         | Binary             |\n",
    "| `room_private`             | Whether or not the room is private                        | Binary             |\n",
    "| `person_capacity`          | Maximum number of people the room can support             | Numerical          |\n",
    "| `host_is_superhost`        | Whether or not the host is a superhost                    | Binary             |\n",
    "| `multi`                    | Whether or not the listing is for multiple rooms          | Binary             |\n",
    "| `biz`                      | Whether or not the listing is for business purposes       | Binary             |\n",
    "| `cleanliness_rating`        | Rating of how clean the room is                          | Numerical          |\n",
    "| `guest_satisfaction_overall` | Overall guest satisfaction of the listing               | Numerical          |\n",
    "| `bedrooms`                 | Number of bedrooms in the listing                         | Numerical          |\n",
    "| `dist`                     | Distance of the listing to the city centre                | Numerical          |\n",
    "| `metro_dist`               | Distance to the closest subway station                    | Numerical          |\n",
    "| `lng`                      | Longitude of the listing’s location                       | Numerical          |\n",
    "| `lat`                      | Latitude of the listing’s location                        | Numerical          |\n",
    "\n",
    "\n",
    "Even though there are many variables, we will only use the following covariates (input variables) along with the `realSum` response: `guest_satisfaction_overall`, `cleanliness_rating`, and `room_type`.\n",
    "\n",
    "## **Research Question**\n",
    "\n",
    "How is the quality of the Airbnb such as the overall guest satisfaction and cleaniness scores associated with the listing price for each room type in USD?"
   ]
  },
  {
   "cell_type": "markdown",
   "id": "e0e13f5c",
   "metadata": {},
   "source": [
    "---"
   ]
  },
  {
   "cell_type": "markdown",
   "id": "22c6e701",
   "metadata": {
    "vscode": {
     "languageId": "r"
    }
   },
   "source": [
    "# **2a. Exploratory Data Analysis (EDA)**\n",
    "\n",
    "At this point, we would like to examine and clean the data and proceed with the answer to our research question:\n",
    "\n",
    "\n",
    "This involves:\n",
    "1. It shows that it is possible to load the dataset to R.\n",
    "2. Cleaning and wrangling the data into a state that is readable and usable.\n",
    "3. Production of relevant visualization to determine pivoting patterns and potential issues in modeling."
   ]
  },
  {
   "cell_type": "markdown",
   "id": "5d366462",
   "metadata": {
    "vscode": {
     "languageId": "r"
    }
   },
   "source": [
    "###  **Load the Data**\n",
    "\n",
    "In total, we have **six files**, which were merged into a single dataset using **R**.\n",
    "Test."
   ]
  },
  {
   "cell_type": "code",
   "execution_count": null,
   "id": "40ad6e6d",
   "metadata": {
    "vscode": {
     "languageId": "r"
    }
   },
   "outputs": [],
   "source": [
    "# Load libraries\n",
    "library(readr)\n",
    "library(dplyr)\n",
    "library(ggplot2)\n",
    "\n",
    "# Read in all six CSVs\n",
    "amsterdam_weekdays <- read_csv(\"amsterdam_weekdays.csv\")\n",
    "amsterdam_weekends <- read_csv(\"amsterdam_weekends.csv\")\n",
    "athens_weekdays <- read_csv(\"athens_weekdays.csv\")\n",
    "athens_weekends <- read_csv(\"athens_weekends.csv\")\n",
    "berlin_weekdays <- read_csv(\"berlin_weekdays.csv\")\n",
    "berlin_weekends <- read_csv(\"berlin_weekends.csv\")"
   ]
  },
  {
   "cell_type": "markdown",
   "id": "4e8a1a2d",
   "metadata": {},
   "source": [
    "###  **Clean and Wrangle the Data**\n",
    "\n",
    "We'll now combine the datasets and add two columns that indicate the specific dataset it came from:\n",
    "- `city`: name of the city (Amsterdam, Athens, Berlin)\n",
    "- `day_type`: either `\"weekday\"` or `\"weekend\"`\n",
    "\n",
    "We'll also:\n",
    "- Convert logical and categorical columns to appropriate types\n",
    "- Ensure a clean, tidy structure for plotting and modeling"
   ]
  },
  {
   "cell_type": "code",
   "execution_count": null,
   "id": "ece21f0d",
   "metadata": {
    "vscode": {
     "languageId": "r"
    }
   },
   "outputs": [],
   "source": [
    "# Add city and day_type to each dataset\n",
    "amsterdam_weekdays$city <- \"Amsterdam\"\n",
    "amsterdam_weekends$city <- \"Amsterdam\"\n",
    "athens_weekdays$city <- \"Athens\"\n",
    "athens_weekends$city <- \"Athens\"\n",
    "berlin_weekdays$city <- \"Berlin\"\n",
    "berlin_weekends$city <- \"Berlin\"\n",
    "\n",
    "amsterdam_weekdays$day_type <- \"weekday\"\n",
    "amsterdam_weekends$day_type <- \"weekend\"\n",
    "athens_weekdays$day_type <- \"weekday\"\n",
    "athens_weekends$day_type <- \"weekend\"\n",
    "berlin_weekdays$day_type <- \"weekday\"\n",
    "berlin_weekends$day_type <- \"weekend\"\n",
    "\n",
    "# Combine all datasets\n",
    "airbnb <- bind_rows(\n",
    "  amsterdam_weekdays,\n",
    "  amsterdam_weekends,\n",
    "  athens_weekdays,\n",
    "  athens_weekends,\n",
    "  berlin_weekdays,\n",
    "  berlin_weekends\n",
    ")\n",
    "\n",
    "# Convert to factors\n",
    "airbnb_clean <- airbnb %>%\n",
    "  mutate(\n",
    "    city = as.factor(city),\n",
    "    day_type = as.factor(day_type),\n",
    "    host_is_superhost = as.factor(host_is_superhost),\n",
    "    biz = as.factor(biz),\n",
    "    room_type = as.factor(room_type)\n",
    "  )\n",
    "\n",
    "# Only include the relevant variables\n",
    "airbnb_clean_filtered <- airbnb_clean |> \n",
    "  select(realSum, cleanliness_rating, guest_satisfaction_overall, room_type)\n",
    "\n",
    "tail(airbnb_clean_filtered)"
   ]
  },
  {
   "cell_type": "markdown",
   "id": "1cc4d9d8",
   "metadata": {},
   "source": [
    "Here, our data is in tidy format."
   ]
  },
  {
   "cell_type": "markdown",
   "id": "30193833",
   "metadata": {},
   "source": [
    "### **Exploratory Data Visualization**"
   ]
  },
  {
   "cell_type": "markdown",
   "id": "050ff5b5",
   "metadata": {
    "vscode": {
     "languageId": "r"
    }
   },
   "source": [
    "We will now create scatterplots to preliminarily explore the pairwise relationship between continuous variable (`cleanliness_score` and `guest_satisfaction_overall`) and the Airbnb listing price response variable. For each scatterplot, We will plot regression lines for each `room_type` category to see whether or not the relationships between the continuous varaibles and the response is the same for each room type category, or if the plots show that it is different. "
   ]
  },
  {
   "cell_type": "markdown",
   "id": "0cef2925",
   "metadata": {},
   "source": [
    "**Scatterplot of `realSum` against `cleanliness_score` with `room_type` categories:**"
   ]
  },
  {
   "cell_type": "code",
   "execution_count": null,
   "id": "940b2095",
   "metadata": {
    "vscode": {
     "languageId": "r"
    }
   },
   "outputs": [],
   "source": [
    "realSum_cleanliness_rating_scatterplot <-\n",
    "    airbnb_clean_filtered |>\n",
    "    ggplot() +\n",
    "    geom_point(aes(x = cleanliness_rating, y = realSum, color = room_type)) +\n",
    "    geom_smooth(method = \"lm\", aes(x = cleanliness_rating, y = realSum, color = room_type)) +\n",
    "    coord_cartesian(ylim = c(0, 2500)) +\n",
    "    labs(title = \"Airbnb Prices vs Cleaniness Score for each room type\", x = \"Cleaniness Rating Score\", y = \"Listing Price (USD)\", color = \"Room Type\")\n",
    "\n",
    "realSum_cleanliness_rating_scatterplot"
   ]
  },
  {
   "cell_type": "markdown",
   "id": "097e30fc",
   "metadata": {},
   "source": [
    "**Scatterplot of `realSum` against `guest_satisfaction_overall` with `room_type` categories:**"
   ]
  },
  {
   "cell_type": "code",
   "execution_count": null,
   "id": "d00dacd3",
   "metadata": {
    "vscode": {
     "languageId": "r"
    }
   },
   "outputs": [],
   "source": [
    "realSum_cleanliness_rating_scatterplot <-\n",
    "    airbnb_clean_filtered |>\n",
    "    ggplot() +\n",
    "    geom_point(aes(x = guest_satisfaction_overall, y = realSum, color = room_type)) +\n",
    "    geom_smooth(method = \"lm\", aes(x = guest_satisfaction_overall, y = realSum, color = room_type)) +\n",
    "    coord_cartesian(ylim = c(0, 2500)) +\n",
    "    labs(title = \"Airbnb Prices vs Cleaniness Score for each room type\", x = \"Cleaniness Rating Score\", y = \"Listing Price (USD)\", color = \"Room Type\")\n",
    "\n",
    "realSum_cleanliness_rating_scatterplot"
   ]
  },
  {
   "cell_type": "markdown",
   "id": "ff2d8406",
   "metadata": {},
   "source": [
    "### **Summary Tables**"
   ]
  },
  {
   "cell_type": "markdown",
   "id": "102824d0",
   "metadata": {},
   "source": [
    "Put any summary tables relevant to our analysis here:"
   ]
  },
  {
   "cell_type": "markdown",
   "id": "32e62366",
   "metadata": {},
   "source": [
    "# **2b: Analysis Plan**"
   ]
  },
  {
   "cell_type": "markdown",
   "id": "c0443f86",
   "metadata": {},
   "source": [
    "Based on our scatterplots in the exploratory data analysis section, we notice that there is a somewhat positive association between the input variables and the response. Also, the associations seem to be different for all 3 categories. Therefore, we will start with a full model with interactions. \n",
    "\n",
    "The full model with interactions will have 9 beta coefficients, including: \n",
    "\n",
    "- Intercept\n",
    "- 2 Continuous variables\n",
    "- 2 Dummy variables for the room type category\n",
    "- 4 Intereactions terms, which includes one for each continuous variable and categorical dummy variable.\n",
    "\n",
    "We've noticed that we have a heteroscedastitcity issue based on our exploratory scatterplots, as the variance of the residuals increases when we both the `cleanliness_rating` and `guest_satisfaction_overall` increases.\n",
    "To tackle this problem, we will perform a log transform. by using `mutate()` on our cleaned dataset to get log of the continuous variables. \n",
    "\n",
    "*We will not include VIF's becasue LASSO model selection is designed to handle it. Multicollinearity is a problem with stepwise selection, but not for LASSO.\n",
    "\n",
    "We will then perform model selection using the LASSO method. We will start by finding an optimal value for lambda using 10-fold cross validation. We would use `cv.glmnet()` to perform the 10-fold cross validation, and then extract the coefficient. \n",
    "\n",
    "After finding the optimal value for lambda, perform LASSO selection. We will base our results on the varibles that LASSO sets to 0. We chose this method becasue when a beta coefficient is 0, then it is shown to not significantly affect the listing price response. Therefore there is not a significant association"
   ]
  },
  {
   "cell_type": "markdown",
   "id": "cc9ff8f6-99d3-4539-9bed-9896cf2c6adf",
   "metadata": {},
   "source": [
    "# **2c. Results**"
   ]
  },
  {
   "cell_type": "markdown",
   "id": "f16c7f5e-ecdd-4896-8ee2-67ee23895692",
   "metadata": {},
   "source": [
    "### Step 1: Log Transform the Response Variable\n",
    "\n",
    "In order to deal with the condition of heteroscedasticity identified in the exploratory scatterplots (in which the variance of price grew with cleanliness and guest satisfaction), we take a log transformation of the response type variable realSum. This makes variance more constant and fits the important assumptions under linear modeling and regularized regression.\n",
    "\n",
    "We create a new record logrealSum in the dataset that will serves as the response variable in all model building processes."
   ]
  },
  {
   "cell_type": "code",
   "execution_count": null,
   "id": "372b64cf-e2ed-4446-a8ce-1ee91c782ae4",
   "metadata": {},
   "outputs": [],
   "source": [
    "# Main developer: [Your Name]\n",
    "# Contributor: None\n",
    "\n",
    "airbnb_log <- airbnb_clean_filtered %>%\n",
    "  mutate(log_realSum = log(realSum))\n"
   ]
  },
  {
   "cell_type": "markdown",
   "id": "889d17c8-aa4d-4bf8-ac63-c82aab9419b8",
   "metadata": {},
   "source": [
    "### Step 2: Prepare Data for LASSO Modeling\n",
    "\n",
    "To make LASSO, the categorical variables should be transformed into the numeric ones through dummy coding. To accommodate this automatically we use model.matrix().\n",
    "\n",
    "Random sampling was also used to divide our data set into a training set (80%) and a test set (20%). This enables us to train the model on the training data and perform evaluation of predictive accuracy on the test set.\n"
   ]
  },
  {
   "cell_type": "code",
   "execution_count": null,
   "id": "ee4347c9-8c3a-4f45-89ef-dc687cb11f10",
   "metadata": {},
   "outputs": [],
   "source": [
    "# Main developer: [Your Name]\n",
    "# Contributor: None\n",
    "\n",
    "library(glmnet)\n",
    "library(caret)\n",
    "\n",
    "# Create design matrix (excluding intercept column)\n",
    "model_matrix <- model.matrix(log_realSum ~ cleanliness_rating * room_type + guest_satisfaction_overall * room_type, data = airbnb_log)[, -1]\n",
    "\n",
    "# Response variable\n",
    "y <- airbnb_log$log_realSum\n",
    "\n",
    "# Train/test split\n",
    "set.seed(301)  # for reproducibility\n",
    "train_indices <- sample(1:nrow(model_matrix), size = 0.8 * nrow(model_matrix))\n",
    "\n",
    "x_train <- model_matrix[train_indices, ]\n",
    "y_train <- y[train_indices]\n",
    "x_test <- model_matrix[-train_indices, ]\n",
    "y_test <- y[-train_indices]\n"
   ]
  },
  {
   "cell_type": "markdown",
   "id": "c4c8662c-b7da-4a72-9a1f-a18fa3b55420",
   "metadata": {},
   "source": [
    "### 3. Perform 10-fold Cross-Validation to Choose Optimal Lambda\n",
    "\n",
    "We carry out 10-fold cross-validation by calling cv.glmnet() in order to choose the best value of the regularization parameter- 1.\n",
    "\n",
    "This enables us to determine the value of 1 which minimizes our cross validated prediction error (mean squared error), not only can we then avoid overfitting our model, but we can also see which of the predictors are the most important to our model.\n",
    "\n",
    "We will also plot the mean cross-validation error according to the 2 values of 1 and plot the error associated with different lambda values and retrieve the minimum error (lambda.min) that is the value of lambda."
   ]
  },
  {
   "cell_type": "code",
   "execution_count": null,
   "id": "91fee625-a488-4281-b524-3dbfdbc56f4b",
   "metadata": {},
   "outputs": [],
   "source": [
    "# Main developer: Sajid\n",
    "# Contributor: None\n",
    "\n",
    "set.seed(301)\n",
    "cv_lasso <- cv.glmnet(x_train, y_train, alpha = 1)\n",
    "\n",
    "# Plot CV curve\n",
    "plot(cv_lasso)\n",
    "\n",
    "cv_lasso$lambda.min"
   ]
  },
  {
   "cell_type": "markdown",
   "id": "29b94eef-19e2-469b-a945-191f067d4483",
   "metadata": {},
   "source": [
    "To choose an optimal penalty parameter lambda of LASSO regression, we were using cv.glmnet () to conduct 10-fold cross-validation in the training set.\n",
    "\n",
    "Cross-validation mean squared- error as a function of log(lambda) is shown in figure below.\n",
    "\n",
    "Fig. 1: Plot of cross-validation CV-Glmnet().\n",
    "\n",
    "- The dots that are red in color depict the MSE at each value of lambda.\n",
    "- The lower dashed line is lambda.min, the value of lambda that induces the minimum cross-validated error.\n",
    "- The most regularized model is connected by the right dashed line and is within one standard error of the minimum lambda.1se.\n",
    "\n",
    "Our final model chosen was the lambda.min because it minimizes the prediction error.\n",
    "\n",
    "Best lambda (lambda.min): 2.89e-05"
   ]
  },
  {
   "cell_type": "code",
   "execution_count": null,
   "id": "752b9d1a-7534-44f8-8afd-ff22e9edca8b",
   "metadata": {},
   "outputs": [],
   "source": [
    "coef(cv_lasso, s = \"lambda.min\")"
   ]
  },
  {
   "cell_type": "markdown",
   "id": "b8e3703d-2435-4fa3-b3f9-e1b654803a06",
   "metadata": {},
   "source": [
    "### 4. Extract Optimal Lambda and Coefficients"
   ]
  },
  {
   "cell_type": "code",
   "execution_count": null,
   "id": "7fb07198-7cec-4f55-9ca6-899c40b32e52",
   "metadata": {},
   "outputs": [],
   "source": [
    "# Main developer: Sajid\n",
    "# Contributor: None\n",
    "\n",
    "best_lambda <- cv_lasso$lambda.min\n",
    "best_lambda\n",
    "\n",
    "lasso_model <- glmnet(x_train, y_train, alpha = 1, lambda = best_lambda)\n",
    "coef(lasso_model)\n"
   ]
  },
  {
   "cell_type": "code",
   "execution_count": null,
   "id": "1f433264-c5eb-4cf5-b0b2-bbef8461a2a7",
   "metadata": {},
   "outputs": [],
   "source": []
  }
 ],
 "metadata": {
  "kernelspec": {
   "display_name": "R",
   "language": "R",
   "name": "ir"
  },
  "language_info": {
   "codemirror_mode": "r",
   "file_extension": ".r",
   "mimetype": "text/x-r-source",
   "name": "R",
   "pygments_lexer": "r",
   "version": "4.3.3"
  }
 },
 "nbformat": 4,
 "nbformat_minor": 5
}
