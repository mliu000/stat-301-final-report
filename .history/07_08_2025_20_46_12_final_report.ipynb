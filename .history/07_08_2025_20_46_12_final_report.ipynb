{
 "cells": [
  {
   "cell_type": "markdown",
   "id": "95ad3d65",
   "metadata": {
    "vscode": {
     "languageId": "r"
    }
   },
   "source": [
    "# **STAT 301 – Final Report - Group 5**"
   ]
  },
  {
   "cell_type": "markdown",
   "id": "1c625bf6",
   "metadata": {
    "vscode": {
     "languageId": "r"
    }
   },
   "source": [
    "---"
   ]
  },
  {
   "cell_type": "markdown",
   "id": "4b5d8a84",
   "metadata": {},
   "source": [
    "### **Group Members: Mu Ye Liu, Taha Memon, Sajid Mahmood**"
   ]
  },
  {
   "cell_type": "markdown",
   "id": "5cae2d2e",
   "metadata": {},
   "source": [
    "---"
   ]
  },
  {
   "cell_type": "markdown",
   "id": "cd88993f",
   "metadata": {},
   "source": [
    "# **1. Introduction**\n",
    "\n",
    "Airbnb has revolutionized the short-term rental indutry, whereby it provides tourists with housing units through hosts willing to give them shared or full houses. It has matured to be a wolrdwide marketplace with prices being driven by many factors such as the nature of the property and the host, demand created by the guests and genographical loation.\n",
    "\n",
    "It is important to understand the factors of Airbnb price to both the market analysts as well as the host. Strategic pricing can maximize occupancy and revenue to the hosts or can further give insight to the researchers on how the market activities and preferences can interpolate into the sharing economy.\n",
    "\n",
    "The dataset we analyze contains Airbnb listings from several major European cities, including **Amsterdam, Athens, and Berlin**, with separate data for **weekdays and weekends**. Each listing includes information from the following variables:\n",
    "\n",
    "| Variable                    | Description                                               | Type               |\n",
    "|----------------------------|-----------------------------------------------------------|--------------------|\n",
    "| `realSum`                  | Price of the Airbnb listing per night ($USD)              | Numerical          |\n",
    "| `room_type`                | Type of room being offered (e.g., private room)           | Categorical        |\n",
    "| `room_shared`              | Whether or not the room is shared                         | Binary             |\n",
    "| `room_private`             | Whether or not the room is private                        | Binary             |\n",
    "| `person_capacity`          | Maximum number of people the room can support             | Numerical          |\n",
    "| `host_is_superhost`        | Whether or not the host is a superhost                    | Binary             |\n",
    "| `multi`                    | Whether or not the listing is for multiple rooms          | Binary             |\n",
    "| `biz`                      | Whether or not the listing is for business purposes       | Binary             |\n",
    "| `cleanliness_rating`        | Rating of how clean the room is                          | Numerical          |\n",
    "| `guest_satisfaction_overall` | Overall guest satisfaction of the listing               | Numerical          |\n",
    "| `bedrooms`                 | Number of bedrooms in the listing                         | Numerical          |\n",
    "| `dist`                     | Distance of the listing to the city centre                | Numerical          |\n",
    "| `metro_dist`               | Distance to the closest subway station                    | Numerical          |\n",
    "| `lng`                      | Longitude of the listing’s location                       | Numerical          |\n",
    "| `lat`                      | Latitude of the listing’s location                        | Numerical          |\n",
    "\n",
    "\n",
    "Even though there are many variables, we will only use the following covariates (input variables) along with the `realSum` response: `guest_satisfaction_overall`, `cleanliness_rating`, and `room_type`.\n",
    "\n",
    "## **Research Question**\n",
    "\n",
    "How is the quality of the Airbnb such as the overall guest satisfaction and cleaniness scores associated with the listing price for each room type in USD?"
   ]
  },
  {
   "cell_type": "markdown",
   "id": "7710c17f",
   "metadata": {},
   "source": [
    "---"
   ]
  },
  {
   "cell_type": "markdown",
   "id": "36767ba1",
   "metadata": {
    "vscode": {
     "languageId": "r"
    }
   },
   "source": [
    "# **2a. Exploratory Data Analysis (EDA)**\n",
    "\n",
    "At this point, we would like to examine and clean the data and proceed with the answer to our research question:\n",
    "\n",
    "\n",
    "This involves:\n",
    "1. It shows that it is possible to load the dataset to R.\n",
    "2. Cleaning and wrangling the data into a state that is readable and usable.\n",
    "3. Production of relevant visualization to determine pivoting patterns and potential issues in modeling."
   ]
  },
  {
   "cell_type": "markdown",
   "id": "efd80ded",
   "metadata": {
    "vscode": {
     "languageId": "r"
    }
   },
   "source": [
    "###  **Load the Data**\n",
    "\n",
    "In total, we have **six files**, which were merged into a single dataset using **R**.\n",
    "Test."
   ]
  },
  {
   "cell_type": "code",
   "execution_count": null,
   "id": "91c5fcb2",
   "metadata": {
    "vscode": {
     "languageId": "r"
    }
   },
   "outputs": [],
   "source": [
    "# Load libraries\n",
    "library(readr)\n",
    "library(dplyr)\n",
    "library(ggplot2)\n",
    "\n",
    "# Read in all six CSVs\n",
    "amsterdam_weekdays <- read_csv(\"amsterdam_weekdays.csv\")\n",
    "amsterdam_weekends <- read_csv(\"amsterdam_weekends.csv\")\n",
    "athens_weekdays <- read_csv(\"athens_weekdays.csv\")\n",
    "athens_weekends <- read_csv(\"athens_weekends.csv\")\n",
    "berlin_weekdays <- read_csv(\"berlin_weekdays.csv\")\n",
    "berlin_weekends <- read_csv(\"berlin_weekends.csv\")"
   ]
  },
  {
   "cell_type": "markdown",
   "id": "b2037355",
   "metadata": {},
   "source": [
    "###  **Clean and Wrangle the Data**\n",
    "\n",
    "We'll now combine the datasets and add two columns that indicate the specific dataset it came from:\n",
    "- `city`: name of the city (Amsterdam, Athens, Berlin)\n",
    "- `day_type`: either `\"weekday\"` or `\"weekend\"`\n",
    "\n",
    "We'll also:\n",
    "- Convert logical and categorical columns to appropriate types\n",
    "- Ensure a clean, tidy structure for plotting and modeling"
   ]
  },
  {
   "cell_type": "code",
   "execution_count": null,
   "id": "21717c8f",
   "metadata": {
    "vscode": {
     "languageId": "r"
    }
   },
   "outputs": [],
   "source": [
    "# Add city and day_type to each dataset\n",
    "amsterdam_weekdays$city <- \"Amsterdam\"\n",
    "amsterdam_weekends$city <- \"Amsterdam\"\n",
    "athens_weekdays$city <- \"Athens\"\n",
    "athens_weekends$city <- \"Athens\"\n",
    "berlin_weekdays$city <- \"Berlin\"\n",
    "berlin_weekends$city <- \"Berlin\"\n",
    "\n",
    "amsterdam_weekdays$day_type <- \"weekday\"\n",
    "amsterdam_weekends$day_type <- \"weekend\"\n",
    "athens_weekdays$day_type <- \"weekday\"\n",
    "athens_weekends$day_type <- \"weekend\"\n",
    "berlin_weekdays$day_type <- \"weekday\"\n",
    "berlin_weekends$day_type <- \"weekend\"\n",
    "\n",
    "# Combine all datasets\n",
    "airbnb <- bind_rows(\n",
    "  amsterdam_weekdays,\n",
    "  amsterdam_weekends,\n",
    "  athens_weekdays,\n",
    "  athens_weekends,\n",
    "  berlin_weekdays,\n",
    "  berlin_weekends\n",
    ")\n",
    "\n",
    "# Convert to factors\n",
    "airbnb_clean <- airbnb %>%\n",
    "  mutate(\n",
    "    city = as.factor(city),\n",
    "    day_type = as.factor(day_type),\n",
    "    host_is_superhost = as.factor(host_is_superhost),\n",
    "    biz = as.factor(biz),\n",
    "    room_type = as.factor(room_type)\n",
    "  )\n",
    "\n",
    "# Only include the relevant variables\n",
    "airbnb_clean_filtered <- airbnb_clean |> \n",
    "  select(realSum, cleanliness_rating, guest_satisfaction_overall, room_type)\n",
    "\n",
    "tail(airbnb_clean_filtered)"
   ]
  },
  {
   "cell_type": "markdown",
   "id": "f9814033",
   "metadata": {},
   "source": [
    "Here, our data is in tidy format."
   ]
  },
  {
   "cell_type": "markdown",
   "id": "6a338c13",
   "metadata": {},
   "source": [
    "### **Exploratory Data Visualization**"
   ]
  },
  {
   "cell_type": "markdown",
   "id": "6f54dcd4",
   "metadata": {
    "vscode": {
     "languageId": "r"
    }
   },
   "source": [
    "We will now create scatterplots to preliminarily explore the pairwise relationship between continuous variable (`cleanliness_score` and `guest_satisfaction_overall`) and the Airbnb listing price response variable. For each scatterplot, We will plot regression lines for each `room_type` category to see whether or not the relationships between the continuous varaibles and the response is the same for each room type category, or if the plots show that it is different. "
   ]
  },
  {
   "cell_type": "markdown",
   "id": "8f6b8b3e",
   "metadata": {},
   "source": [
    "**Scatterplot of `realSum` against `cleanliness_score` with `room_type` categories:**"
   ]
  },
  {
   "cell_type": "code",
   "execution_count": null,
   "id": "661f235c",
   "metadata": {
    "vscode": {
     "languageId": "r"
    }
   },
   "outputs": [],
   "source": [
    "realSum_cleanliness_rating_scatterplot <-\n",
    "    airbnb_clean_filtered |>\n",
    "    ggplot() +\n",
    "    geom_point(aes(x = cleanliness_rating, y = realSum, color = room_type)) +\n",
    "    geom_smooth(method = \"lm\", aes(x = cleanliness_rating, y = realSum, color = room_type)) +\n",
    "    coord_cartesian(ylim = c(0, 2500)) +\n",
    "    labs(title = \"Airbnb Prices vs Cleaniness Score for each room type\", x = \"Cleaniness Rating Score\", y = \"Listing Price (USD)\", color = \"Room Type\")\n",
    "\n",
    "realSum_cleanliness_rating_scatterplot"
   ]
  },
  {
   "cell_type": "markdown",
   "id": "42ed7c94",
   "metadata": {},
   "source": [
    "**Scatterplot of `realSum` against `guest_satisfaction_overall` with `room_type` categories:**"
   ]
  },
  {
   "cell_type": "code",
   "execution_count": null,
   "id": "4d606d58",
   "metadata": {
    "vscode": {
     "languageId": "r"
    }
   },
   "outputs": [],
   "source": [
    "realSum_cleanliness_rating_scatterplot <-\n",
    "    airbnb_clean_filtered |>\n",
    "    ggplot() +\n",
    "    geom_point(aes(x = guest_satisfaction_overall, y = realSum, color = room_type)) +\n",
    "    geom_smooth(method = \"lm\", aes(x = guest_satisfaction_overall, y = realSum, color = room_type)) +\n",
    "    coord_cartesian(ylim = c(0, 2500)) +\n",
    "    labs(title = \"Airbnb Prices vs Cleaniness Score for each room type\", x = \"Cleaniness Rating Score\", y = \"Listing Price (USD)\", color = \"Room Type\")\n",
    "\n",
    "realSum_cleanliness_rating_scatterplot"
   ]
  },
  {
   "cell_type": "markdown",
   "id": "8123039b",
   "metadata": {},
   "source": [
    "### **Summary Tables**"
   ]
  },
  {
   "cell_type": "markdown",
   "id": "06cd249b",
   "metadata": {},
   "source": [
    "Put any summary tables relevant to our analysis here:"
   ]
  },
  {
   "cell_type": "markdown",
   "id": "98911a63",
   "metadata": {},
   "source": [
    "# **2b: Analysis Plan**"
   ]
  },
  {
   "cell_type": "markdown",
   "id": "c48fb4fa",
   "metadata": {},
   "source": [
    "Based on our scatterplots in the exploratory data analysis section, we notice that there is a somewhat positive association between the input variables and the response. Also, the associations seem to be different for all 3 categories. Therefore, we will start with a full model with interactions. \n",
    "\n",
    "The full model with interactions will have 9 beta coefficients, including: \n",
    "\n",
    "- Intercept\n",
    "- 2 Continuous variables\n",
    "- 2 Dummy variables for the room type category\n",
    "- 4 Intereactions terms, which includes one for each continuous variable and categorical dummy variable.\n",
    "\n",
    "We've noticed that we have a heteroscedastitcity issue based on our exploratory scatterplots, as the variance of the residuals increases when we both the `cleanliness_rating` and `guest_satisfaction_overall` increases.\n",
    "To tackle this problem, we will perform a log transform. by using `mutate()` on our cleaned dataset to get log of the continuous variables. \n",
    "\n",
    "*We will not include VIF's becasue LASSO model selection is designed to handle it. Multicollinearity is a problem with stepwise selection, but not for LASSO.\n",
    "\n",
    "We will then perform model selection using the LASSO method. We will start by finding an optimal value for lambda using 10-fold cross validation. We would use `cv.glmnet()` to perform the 10-fold cross validation, and then extract the coefficient. \n",
    "\n",
    "After finding the optimal value for lambda, perform LASSO selection. We will base our results on the varibles that LASSO sets to 0. We chose this method becasue when a beta coefficient is 0, then it is shown to not significantly affect the listing price response. Therefore there is not a significant association"
   ]
  }
 ],
 "metadata": {
  "kernelspec": {
   "display_name": "R",
   "language": "R",
   "name": "ir"
  },
  "language_info": {
   "codemirror_mode": "r",
   "file_extension": ".r",
   "mimetype": "text/x-r-source",
   "name": "R",
   "pygments_lexer": "r",
   "version": "4.3.3"
  }
 },
 "nbformat": 4,
 "nbformat_minor": 5
}
