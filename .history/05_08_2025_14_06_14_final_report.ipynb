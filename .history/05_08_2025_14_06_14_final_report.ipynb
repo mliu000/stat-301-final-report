{
 "cells": [
  {
   "cell_type": "markdown",
   "id": "647956aa-788e-4e8a-aaf4-78856252f798",
   "metadata": {
    "vscode": {
     "languageId": "r"
    }
   },
   "source": [
    "# STAT 301 – Final Report - Group 5 "
   ]
  },
  {
   "cell_type": "markdown",
   "id": "ca9a93a7",
   "metadata": {},
   "source": [
    "### **Group Members: Mu Ye Liu, Taha Memon, Sajid Mahmood**"
   ]
  },
  {
   "cell_type": "markdown",
   "id": "e7fbef40-5ea3-4a39-bd96-927d785c62a0",
   "metadata": {},
   "source": [
    "## Introduction\n",
    "\n",
    "Airbnb has revolutionized the short-term rental indutry, whereby it provides tourists with housing units through hosts willing to give them shared or full houses. It has matured to be a wolrdwide marketplace with prices being driven by many factors such as the nature of the property and the host, demand created by the guests and genographical loation.\n",
    "\n",
    "It is important to understand the factors of Airbnb price to both the market analysts as well as the host. Strategic pricing can maximize occupancy and revenue to the hosts or can further give insight to the researchers on how the market activities and preferences can interpolate into the sharing economy.\n",
    "\n",
    "The dataset we analyze contains Airbnb listings from several major European cities, including **Amsterdam, Athens, and Berlin**, with separate data for **weekdays and weekends**. Each listing includes information on:\n",
    "\n",
    "- **Price (`realSum`)**: The total cost of the listing\n",
    "- **Property and host attributes** (e.g., room type, number of bedrooms, superhost status)\n",
    "- **Business and guest indicators** (e.g., business-friendly flag, guest satisfaction)\n",
    "- **Geographical context** (e.g., distance from city center, latitude, longitude)\n",
    "- **Time of listing** (weekday vs weekend)\n",
    "\n",
    "Using this detailed data we can explore how the host choices and decisions, property characteristics and features, property charactersititcs "
   ]
  },
  {
   "cell_type": "code",
   "execution_count": null,
   "id": "f92c8758-bc34-4945-bb36-f41d3a2cb746",
   "metadata": {
    "vscode": {
     "languageId": "r"
    }
   },
   "outputs": [],
   "source": []
  },
  {
   "cell_type": "code",
   "execution_count": null,
   "id": "a45d8b73-3b56-4125-9eb5-564c86ae3729",
   "metadata": {
    "vscode": {
     "languageId": "r"
    }
   },
   "outputs": [],
   "source": []
  },
  {
   "cell_type": "code",
   "execution_count": null,
   "id": "6f429b0f-cac2-4d3c-b00b-453472e23e4c",
   "metadata": {
    "vscode": {
     "languageId": "r"
    }
   },
   "outputs": [],
   "source": []
  }
 ],
 "metadata": {
  "kernelspec": {
   "display_name": "R",
   "language": "R",
   "name": "ir"
  },
  "language_info": {
   "codemirror_mode": "r",
   "file_extension": ".r",
   "mimetype": "text/x-r-source",
   "name": "R",
   "pygments_lexer": "r",
   "version": "4.3.3"
  }
 },
 "nbformat": 4,
 "nbformat_minor": 5
}
