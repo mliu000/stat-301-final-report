{
 "cells": [
  {
   "cell_type": "markdown",
   "id": "647956aa-788e-4e8a-aaf4-78856252f798",
   "metadata": {
    "vscode": {
     "languageId": "r"
    }
   },
   "source": [
    "# STAT 301 – Final Report (Group)"
   ]
  },
  {
   "cell_type": "markdown",
   "id": "e7fbef40-5ea3-4a39-bd96-927d785c62a0",
   "metadata": {},
   "source": [
    "# 1. Data Description\n",
    "\n",
    "##  Dataset Source and Collection\n",
    "\n",
    "The dataset used in this project is titled **“Airbnb Prices in European Cities”**, published on [Kaggle](https://www.kaggle.com/datasets/thedevastator/airbnb-prices-in-european-cities). It was assembled with **scraped data of the publicly available sources of Airbnb listings**. Such listings have specific metadata like the price, the room features, the satisfaction and cleanliness level, the geographic position, and the availability of the host.\n",
    "\n",
    "Though the original Kaggle dataset lacks any particular code on web scraping, we can infer that the data was scraped by the process of **automated crawling of the Airbnb platform** over a series of cities of Europe on the basis of the structure and the naming of the variables. Every listing represents only one available property at one particular time.\n",
    "\n",
    "\n",
    "\n",
    "## Dataset Overview\n",
    "\n",
    "This project focuses on three cities:\n",
    "- **Amsterdam**\n",
    "- **Athens**\n",
    "- **Berlin**\n",
    "\n",
    "Each city has two files:\n",
    "- One for **weekday listings**\n",
    "- One for **weekend listings**\n",
    "\n",
    "In total, we have **six files**, whijhch were merged into a single dataset using **R**.\n",
    "Test."
   ]
  },
  {
   "cell_type": "code",
   "execution_count": null,
   "id": "f92c8758-bc34-4945-bb36-f41d3a2cb746",
   "metadata": {},
   "outputs": [],
   "source": [
    "# Load libraries\n",
    "library(readr)\n",
    "library(dplyr)\n",
    "\n",
    "# Read in all six CSVs\n",
    "amsterdam_weekdays <- read_csv(\"amsterdam_weekdays.csv\")\n",
    "amsterdam_weekends <- read_csv(\"amsterdam_weekends.csv\")\n",
    "athens_weekdays <- read_csv(\"athens_weekdays.csv\")\n",
    "athens_weekends <- read_csv(\"athens_weekends.csv\")\n",
    "berlin_weekdays <- read_csv(\"berlin_weekdays.csv\")\n",
    "berlin_weekends <- read_csv(\"berlin_weekends.csv\")"
   ]
  },
  {
   "cell_type": "code",
   "execution_count": null,
   "id": "a45d8b73-3b56-4125-9eb5-564c86ae3729",
   "metadata": {},
   "outputs": [],
   "source": [
    "# Add city and day_type to each dataset\n",
    "amsterdam_weekdays$city <- \"Amsterdam\"\n",
    "amsterdam_weekends$city <- \"Amsterdam\"\n",
    "athens_weekdays$city <- \"Athens\"\n",
    "athens_weekends$city <- \"Athens\"\n",
    "berlin_weekdays$city <- \"Berlin\"\n",
    "berlin_weekends$city <- \"Berlin\"\n",
    "\n",
    "amsterdam_weekdays$day_type <- \"weekday\"\n",
    "amsterdam_weekends$day_type <- \"weekend\"\n",
    "athens_weekdays$day_type <- \"weekday\"\n",
    "athens_weekends$day_type <- \"weekend\"\n",
    "berlin_weekdays$day_type <- \"weekday\"\n",
    "berlin_weekends$day_type <- \"weekend\"\n",
    "\n",
    "# Combine all datasets\n",
    "airbnb <- bind_rows(\n",
    "  amsterdam_weekdays,\n",
    "  amsterdam_weekends,\n",
    "  athens_weekdays,\n",
    "  athens_weekends,\n",
    "  berlin_weekdays,\n",
    "  berlin_weekends\n",
    ")\n",
    "\n",
    "# Convert to factors\n",
    "airbnb_clean <- airbnb %>%\n",
    "  mutate(\n",
    "    city = as.factor(city),\n",
    "    day_type = as.factor(day_type),\n",
    "    host_is_superhost = as.factor(host_is_superhost),\n",
    "    biz = as.factor(biz)\n",
    "  )\n"
   ]
  },
  {
   "cell_type": "code",
   "execution_count": null,
   "id": "6f429b0f-cac2-4d3c-b00b-453472e23e4c",
   "metadata": {},
   "outputs": [],
   "source": []
  }
 ],
 "metadata": {
  "kernelspec": {
   "display_name": "R",
   "language": "R",
   "name": "ir"
  },
  "language_info": {
   "codemirror_mode": "r",
   "file_extension": ".r",
   "mimetype": "text/x-r-source",
   "name": "R",
   "pygments_lexer": "r",
   "version": "4.3.3"
  }
 },
 "nbformat": 4,
 "nbformat_minor": 5
}
