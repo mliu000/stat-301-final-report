{
 "cells": [
  {
   "cell_type": "markdown",
   "id": "647956aa-788e-4e8a-aaf4-78856252f798",
   "metadata": {
    "vscode": {
     "languageId": "r"
    }
   },
   "source": [
    "# STAT 301 – Final Report (Group)"
   ]
  }
 ],
 "metadata": {
  "kernelspec": {
   "display_name": "R",
   "language": "R",
   "name": "ir"
  },
  "language_info": {
   "codemirror_mode": "r",
   "file_extension": ".r",
   "mimetype": "text/x-r-source",
   "name": "R",
   "pygments_lexer": "r",
   "version": "4.3.3"
  }
 },
 "nbformat": 4,
 "nbformat_minor": 5
}
