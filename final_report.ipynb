{
 "cells": [
  {
   "cell_type": "markdown",
   "id": "647956aa-788e-4e8a-aaf4-78856252f798",
   "metadata": {
    "vscode": {
     "languageId": "r"
    }
   },
   "source": [
    "# **STAT 301 – Final Report - Group 5**"
   ]
  },
  {
   "cell_type": "markdown",
   "id": "d77202e3",
   "metadata": {
    "vscode": {
     "languageId": "r"
    }
   },
   "source": [
    "---"
   ]
  },
  {
   "cell_type": "markdown",
   "id": "ca9a93a7",
   "metadata": {},
   "source": [
    "### **Group Members: Mu Ye Liu, Taha Memon, Sajid Mahmood**"
   ]
  },
  {
   "cell_type": "markdown",
   "id": "20cf84a8",
   "metadata": {},
   "source": [
    "---"
   ]
  },
  {
   "cell_type": "markdown",
   "id": "e7fbef40-5ea3-4a39-bd96-927d785c62a0",
   "metadata": {},
   "source": [
    "# **1. Introduction**\n",
    "\n",
    "Airbnb has revolutionized the short-term rental indutry, whereby it provides tourists with housing units through hosts willing to give them shared or full houses. It has matured to be a wolrdwide marketplace with prices being driven by many factors such as the nature of the property and the host, demand created by the guests and genographical loation.\n",
    "\n",
    "It is important to understand the factors of Airbnb price to both the market analysts as well as the host. Strategic pricing can maximize occupancy and revenue to the hosts or can further give insight to the researchers on how the market activities and preferences can interpolate into the sharing economy.\n",
    "\n",
    "The dataset we analyze contains Airbnb listings from several major European cities, including **Amsterdam, Athens, and Berlin**, with separate data for **weekdays and weekends**. Each listing includes information from the following variables:\n",
    "\n",
    "| Variable                    | Description                                               | Type               |\n",
    "|----------------------------|-----------------------------------------------------------|--------------------|\n",
    "| `realSum`                  | Price of the Airbnb listing per night ($USD)              | Numerical          |\n",
    "| `room_type`                | Type of room being offered (e.g., private room)           | Categorical        |\n",
    "| `room_shared`              | Whether or not the room is shared                         | Binary             |\n",
    "| `room_private`             | Whether or not the room is private                        | Binary             |\n",
    "| `person_capacity`          | Maximum number of people the room can support             | Numerical          |\n",
    "| `host_is_superhost`        | Whether or not the host is a superhost                    | Binary             |\n",
    "| `multi`                    | Whether or not the listing is for multiple rooms          | Binary             |\n",
    "| `biz`                      | Whether or not the listing is for business purposes       | Binary             |\n",
    "| `cleanliness_rating`        | Rating of how clean the room is                          | Numerical          |\n",
    "| `guest_satisfaction_overall` | Overall guest satisfaction of the listing               | Numerical          |\n",
    "| `bedrooms`                 | Number of bedrooms in the listing                         | Numerical          |\n",
    "| `dist`                     | Distance of the listing to the city centre                | Numerical          |\n",
    "| `metro_dist`               | Distance to the closest subway station                    | Numerical          |\n",
    "| `lng`                      | Longitude of the listing’s location                       | Numerical          |\n",
    "| `lat`                      | Latitude of the listing’s location                        | Numerical          |\n",
    "\n",
    "\n",
    "Even though there are many variables, we will only use the following covariates (input variables) along with the `realSum` response: `guest_satisfaction_overall`, `cleanliness_rating`, and `room_type`.\n",
    "\n",
    "## **Research Question**\n",
    "\n",
    "How is the quality of the Airbnb such as the overall guest satisfaction and cleaniness scores associated with the listing price for each room type in USD?"
   ]
  },
  {
   "cell_type": "markdown",
   "id": "153ae501",
   "metadata": {},
   "source": [
    "---"
   ]
  },
  {
   "cell_type": "markdown",
   "id": "07635791-d7a2-4015-a67a-32d3fbabdee9",
   "metadata": {
    "vscode": {
     "languageId": "r"
    }
   },
   "source": [
    "# **2a. Exploratory Data Analysis (EDA)**\n",
    "\n",
    "At this point, we would like to examine and clean the data and proceed with the answer to our research question:\n",
    "\n",
    "\n",
    "This involves:\n",
    "1. It shows that it is possible to load the dataset to R.\n",
    "2. Cleaning and wrangling the data into a state that is readable and usable.\n",
    "3. Production of relevant visualization to determine pivoting patterns and potential issues in modeling."
   ]
  },
  {
   "cell_type": "markdown",
   "id": "c7cb8b32-a3c9-4018-96f0-84c9cf546230",
   "metadata": {
    "vscode": {
     "languageId": "r"
    }
   },
   "source": [
    "###  **Load the Data**\n",
    "\n",
    "In total, we have **six files**, which were merged into a single dataset using **R**.\n",
    "Test."
   ]
  },
  {
   "cell_type": "code",
   "execution_count": 9,
   "id": "f92c8758-bc34-4945-bb36-f41d3a2cb746",
   "metadata": {
    "vscode": {
     "languageId": "r"
    }
   },
   "outputs": [
    {
     "name": "stderr",
     "output_type": "stream",
     "text": [
      "\u001b[1m\u001b[22mNew names:\n",
      "\u001b[36m•\u001b[39m `` -> `...1`\n",
      "\u001b[1mRows: \u001b[22m\u001b[34m1103\u001b[39m \u001b[1mColumns: \u001b[22m\u001b[34m20\u001b[39m\n",
      "\u001b[36m──\u001b[39m \u001b[1mColumn specification\u001b[22m \u001b[36m────────────────────────────────────────────────────────\u001b[39m\n",
      "\u001b[1mDelimiter:\u001b[22m \",\"\n",
      "\u001b[31mchr\u001b[39m  (1): room_type\n",
      "\u001b[32mdbl\u001b[39m (16): ...1, realSum, person_capacity, multi, biz, cleanliness_rating, gu...\n",
      "\u001b[33mlgl\u001b[39m  (3): room_shared, room_private, host_is_superhost\n",
      "\n",
      "\u001b[36mℹ\u001b[39m Use `spec()` to retrieve the full column specification for this data.\n",
      "\u001b[36mℹ\u001b[39m Specify the column types or set `show_col_types = FALSE` to quiet this message.\n",
      "\u001b[1m\u001b[22mNew names:\n",
      "\u001b[36m•\u001b[39m `` -> `...1`\n",
      "\u001b[1mRows: \u001b[22m\u001b[34m977\u001b[39m \u001b[1mColumns: \u001b[22m\u001b[34m20\u001b[39m\n",
      "\u001b[36m──\u001b[39m \u001b[1mColumn specification\u001b[22m \u001b[36m────────────────────────────────────────────────────────\u001b[39m\n",
      "\u001b[1mDelimiter:\u001b[22m \",\"\n",
      "\u001b[31mchr\u001b[39m  (1): room_type\n",
      "\u001b[32mdbl\u001b[39m (16): ...1, realSum, person_capacity, multi, biz, cleanliness_rating, gu...\n",
      "\u001b[33mlgl\u001b[39m  (3): room_shared, room_private, host_is_superhost\n",
      "\n",
      "\u001b[36mℹ\u001b[39m Use `spec()` to retrieve the full column specification for this data.\n",
      "\u001b[36mℹ\u001b[39m Specify the column types or set `show_col_types = FALSE` to quiet this message.\n",
      "\u001b[1m\u001b[22mNew names:\n",
      "\u001b[36m•\u001b[39m `` -> `...1`\n",
      "\u001b[1mRows: \u001b[22m\u001b[34m2653\u001b[39m \u001b[1mColumns: \u001b[22m\u001b[34m20\u001b[39m\n",
      "\u001b[36m──\u001b[39m \u001b[1mColumn specification\u001b[22m \u001b[36m────────────────────────────────────────────────────────\u001b[39m\n",
      "\u001b[1mDelimiter:\u001b[22m \",\"\n",
      "\u001b[31mchr\u001b[39m  (1): room_type\n",
      "\u001b[32mdbl\u001b[39m (16): ...1, realSum, person_capacity, multi, biz, cleanliness_rating, gu...\n",
      "\u001b[33mlgl\u001b[39m  (3): room_shared, room_private, host_is_superhost\n",
      "\n",
      "\u001b[36mℹ\u001b[39m Use `spec()` to retrieve the full column specification for this data.\n",
      "\u001b[36mℹ\u001b[39m Specify the column types or set `show_col_types = FALSE` to quiet this message.\n",
      "\u001b[1m\u001b[22mNew names:\n",
      "\u001b[36m•\u001b[39m `` -> `...1`\n",
      "\u001b[1mRows: \u001b[22m\u001b[34m2627\u001b[39m \u001b[1mColumns: \u001b[22m\u001b[34m20\u001b[39m\n",
      "\u001b[36m──\u001b[39m \u001b[1mColumn specification\u001b[22m \u001b[36m────────────────────────────────────────────────────────\u001b[39m\n",
      "\u001b[1mDelimiter:\u001b[22m \",\"\n",
      "\u001b[31mchr\u001b[39m  (1): room_type\n",
      "\u001b[32mdbl\u001b[39m (16): ...1, realSum, person_capacity, multi, biz, cleanliness_rating, gu...\n",
      "\u001b[33mlgl\u001b[39m  (3): room_shared, room_private, host_is_superhost\n",
      "\n",
      "\u001b[36mℹ\u001b[39m Use `spec()` to retrieve the full column specification for this data.\n",
      "\u001b[36mℹ\u001b[39m Specify the column types or set `show_col_types = FALSE` to quiet this message.\n",
      "\u001b[1m\u001b[22mNew names:\n",
      "\u001b[36m•\u001b[39m `` -> `...1`\n",
      "\u001b[1mRows: \u001b[22m\u001b[34m1284\u001b[39m \u001b[1mColumns: \u001b[22m\u001b[34m20\u001b[39m\n",
      "\u001b[36m──\u001b[39m \u001b[1mColumn specification\u001b[22m \u001b[36m────────────────────────────────────────────────────────\u001b[39m\n",
      "\u001b[1mDelimiter:\u001b[22m \",\"\n",
      "\u001b[31mchr\u001b[39m  (1): room_type\n",
      "\u001b[32mdbl\u001b[39m (16): ...1, realSum, person_capacity, multi, biz, cleanliness_rating, gu...\n",
      "\u001b[33mlgl\u001b[39m  (3): room_shared, room_private, host_is_superhost\n",
      "\n",
      "\u001b[36mℹ\u001b[39m Use `spec()` to retrieve the full column specification for this data.\n",
      "\u001b[36mℹ\u001b[39m Specify the column types or set `show_col_types = FALSE` to quiet this message.\n",
      "\u001b[1m\u001b[22mNew names:\n",
      "\u001b[36m•\u001b[39m `` -> `...1`\n",
      "\u001b[1mRows: \u001b[22m\u001b[34m1200\u001b[39m \u001b[1mColumns: \u001b[22m\u001b[34m20\u001b[39m\n",
      "\u001b[36m──\u001b[39m \u001b[1mColumn specification\u001b[22m \u001b[36m────────────────────────────────────────────────────────\u001b[39m\n",
      "\u001b[1mDelimiter:\u001b[22m \",\"\n",
      "\u001b[31mchr\u001b[39m  (1): room_type\n",
      "\u001b[32mdbl\u001b[39m (16): ...1, realSum, person_capacity, multi, biz, cleanliness_rating, gu...\n",
      "\u001b[33mlgl\u001b[39m  (3): room_shared, room_private, host_is_superhost\n",
      "\n",
      "\u001b[36mℹ\u001b[39m Use `spec()` to retrieve the full column specification for this data.\n",
      "\u001b[36mℹ\u001b[39m Specify the column types or set `show_col_types = FALSE` to quiet this message.\n"
     ]
    }
   ],
   "source": [
    "# Load libraries\n",
    "library(readr)\n",
    "library(dplyr)\n",
    "library(ggplot2)\n",
    "\n",
    "# Read in all six CSVs\n",
    "amsterdam_weekdays <- read_csv(\"amsterdam_weekdays.csv\")\n",
    "amsterdam_weekends <- read_csv(\"amsterdam_weekends.csv\")\n",
    "athens_weekdays <- read_csv(\"athens_weekdays.csv\")\n",
    "athens_weekends <- read_csv(\"athens_weekends.csv\")\n",
    "berlin_weekdays <- read_csv(\"berlin_weekdays.csv\")\n",
    "berlin_weekends <- read_csv(\"berlin_weekends.csv\")"
   ]
  },
  {
   "cell_type": "markdown",
   "id": "23c049e3-3e32-4d51-a5d8-5456222512ff",
   "metadata": {},
   "source": [
    "###  **Clean and Wrangle the Data**\n",
    "\n",
    "We'll now combine the datasets and add two columns that indicate the specific dataset it came from:\n",
    "- `city`: name of the city (Amsterdam, Athens, Berlin)\n",
    "- `day_type`: either `\"weekday\"` or `\"weekend\"`\n",
    "\n",
    "We'll also:\n",
    "- Convert logical and categorical columns to appropriate types\n",
    "- Ensure a clean, tidy structure for plotting and modeling"
   ]
  },
  {
   "cell_type": "code",
   "execution_count": 22,
   "id": "a45d8b73-3b56-4125-9eb5-564c86ae3729",
   "metadata": {
    "vscode": {
     "languageId": "r"
    }
   },
   "outputs": [
    {
     "data": {
      "text/html": [
       "<table class=\"dataframe\">\n",
       "<caption>A tibble: 6 × 4</caption>\n",
       "<thead>\n",
       "\t<tr><th scope=col>realSum</th><th scope=col>cleanliness_rating</th><th scope=col>guest_satisfaction_overall</th><th scope=col>room_type</th></tr>\n",
       "\t<tr><th scope=col>&lt;dbl&gt;</th><th scope=col>&lt;dbl&gt;</th><th scope=col>&lt;dbl&gt;</th><th scope=col>&lt;fct&gt;</th></tr>\n",
       "</thead>\n",
       "<tbody>\n",
       "\t<tr><td>156.58596</td><td> 9</td><td> 91</td><td>Entire home/apt</td></tr>\n",
       "\t<tr><td> 84.83687</td><td>10</td><td>100</td><td>Private room   </td></tr>\n",
       "\t<tr><td>134.61718</td><td>10</td><td> 98</td><td>Private room   </td></tr>\n",
       "\t<tr><td>134.61718</td><td>10</td><td> 93</td><td>Private room   </td></tr>\n",
       "\t<tr><td>160.09161</td><td> 9</td><td> 86</td><td>Entire home/apt</td></tr>\n",
       "\t<tr><td>359.68028</td><td>10</td><td>100</td><td>Entire home/apt</td></tr>\n",
       "</tbody>\n",
       "</table>\n"
      ],
      "text/latex": [
       "A tibble: 6 × 4\n",
       "\\begin{tabular}{llll}\n",
       " realSum & cleanliness\\_rating & guest\\_satisfaction\\_overall & room\\_type\\\\\n",
       " <dbl> & <dbl> & <dbl> & <fct>\\\\\n",
       "\\hline\n",
       "\t 156.58596 &  9 &  91 & Entire home/apt\\\\\n",
       "\t  84.83687 & 10 & 100 & Private room   \\\\\n",
       "\t 134.61718 & 10 &  98 & Private room   \\\\\n",
       "\t 134.61718 & 10 &  93 & Private room   \\\\\n",
       "\t 160.09161 &  9 &  86 & Entire home/apt\\\\\n",
       "\t 359.68028 & 10 & 100 & Entire home/apt\\\\\n",
       "\\end{tabular}\n"
      ],
      "text/markdown": [
       "\n",
       "A tibble: 6 × 4\n",
       "\n",
       "| realSum &lt;dbl&gt; | cleanliness_rating &lt;dbl&gt; | guest_satisfaction_overall &lt;dbl&gt; | room_type &lt;fct&gt; |\n",
       "|---|---|---|---|\n",
       "| 156.58596 |  9 |  91 | Entire home/apt |\n",
       "|  84.83687 | 10 | 100 | Private room    |\n",
       "| 134.61718 | 10 |  98 | Private room    |\n",
       "| 134.61718 | 10 |  93 | Private room    |\n",
       "| 160.09161 |  9 |  86 | Entire home/apt |\n",
       "| 359.68028 | 10 | 100 | Entire home/apt |\n",
       "\n"
      ],
      "text/plain": [
       "  realSum   cleanliness_rating guest_satisfaction_overall room_type      \n",
       "1 156.58596  9                  91                        Entire home/apt\n",
       "2  84.83687 10                 100                        Private room   \n",
       "3 134.61718 10                  98                        Private room   \n",
       "4 134.61718 10                  93                        Private room   \n",
       "5 160.09161  9                  86                        Entire home/apt\n",
       "6 359.68028 10                 100                        Entire home/apt"
      ]
     },
     "metadata": {},
     "output_type": "display_data"
    }
   ],
   "source": [
    "# Add city and day_type to each dataset\n",
    "amsterdam_weekdays$city <- \"Amsterdam\"\n",
    "amsterdam_weekends$city <- \"Amsterdam\"\n",
    "athens_weekdays$city <- \"Athens\"\n",
    "athens_weekends$city <- \"Athens\"\n",
    "berlin_weekdays$city <- \"Berlin\"\n",
    "berlin_weekends$city <- \"Berlin\"\n",
    "\n",
    "amsterdam_weekdays$day_type <- \"weekday\"\n",
    "amsterdam_weekends$day_type <- \"weekend\"\n",
    "athens_weekdays$day_type <- \"weekday\"\n",
    "athens_weekends$day_type <- \"weekend\"\n",
    "berlin_weekdays$day_type <- \"weekday\"\n",
    "berlin_weekends$day_type <- \"weekend\"\n",
    "\n",
    "# Combine all datasets\n",
    "airbnb <- bind_rows(\n",
    "  amsterdam_weekdays,\n",
    "  amsterdam_weekends,\n",
    "  athens_weekdays,\n",
    "  athens_weekends,\n",
    "  berlin_weekdays,\n",
    "  berlin_weekends\n",
    ")\n",
    "\n",
    "# Convert to factors\n",
    "airbnb_clean <- airbnb %>%\n",
    "  mutate(\n",
    "    city = as.factor(city),\n",
    "    day_type = as.factor(day_type),\n",
    "    host_is_superhost = as.factor(host_is_superhost),\n",
    "    biz = as.factor(biz),\n",
    "    room_type = as.factor(room_type)\n",
    "  )\n",
    "\n",
    "# Only include the relevant variables\n",
    "airbnb_clean_filtered <- airbnb_clean |> \n",
    "  select(realSum, cleanliness_rating, guest_satisfaction_overall, room_type)\n",
    "\n",
    "tail(airbnb_clean_filtered)"
   ]
  },
  {
   "cell_type": "markdown",
   "id": "b309931b-b959-4c95-8f24-3c9daf88f79c",
   "metadata": {},
   "source": [
    "### **Exploratory Data Visualization**"
   ]
  },
  {
   "cell_type": "markdown",
   "id": "dd2e26e5",
   "metadata": {
    "vscode": {
     "languageId": "r"
    }
   },
   "source": [
    "We will now create scatterplots to preliminarily explore the pairwise relationship between continuous variable (`cleanliness_score` and `guest_satisfaction_overall`) and the Airbnb listing price response variable. For each scatterplot, We will plot regression lines for each `room_type` category to see whether or not the relationships between the continuous varaibles and the response is the same for each room type category, or if the plots show that it is different. "
   ]
  },
  {
   "cell_type": "markdown",
   "id": "8d6d5dba",
   "metadata": {},
   "source": [
    "**Scatterplot of `realSum` against `cleanliness_score` with `room_type` categories:**"
   ]
  },
  {
   "cell_type": "code",
   "execution_count": null,
   "id": "636fe6c9",
   "metadata": {
    "vscode": {
     "languageId": "r"
    }
   },
   "outputs": [
    {
     "name": "stderr",
     "output_type": "stream",
     "text": [
      "\u001b[1m\u001b[22m`geom_smooth()` using formula = 'y ~ x'\n"
     ]
    },
    {
     "data": {
      "image/png": "[encoded data removed]",
      "text/plain": [
       "plot without title"
      ]
     },
     "metadata": {
      "image/png": {
       "height": 420,
       "width": 420
      }
     },
     "output_type": "display_data"
    }
   ],
   "source": [
    "realSum_cleanliness_rating_scatterplot <-\n",
    "    airbnb_clean_filtered |>\n",
    "    ggplot() +\n",
    "    geom_point(aes(x = cleanliness_rating, y = realSum, color = room_type)) +\n",
    "    geom_smooth(method = \"lm\", aes(x = cleanliness_rating, y = realSum, color = room_type)) +\n",
    "    coord_cartesian(ylim = c(0, 2500)) +\n",
    "    labs(title = \"Airbnb Prices vs Cleaniness Score for each room type\", x = \"Cleaniness Rating Score\", y = \"Listing Price (USD)\", color = \"Room Type\")\n",
    "\n",
    "realSum_cleanliness_rating_scatterplot"
   ]
  },
  {
   "cell_type": "markdown",
   "id": "48c2eee5",
   "metadata": {},
   "source": [
    "**Scatterplot of `realSum` against `guest_satisfaction_overall` with `room_type` categories:**"
   ]
  },
  {
   "cell_type": "code",
   "execution_count": 26,
   "id": "82b05e2a",
   "metadata": {
    "vscode": {
     "languageId": "r"
    }
   },
   "outputs": [
    {
     "name": "stderr",
     "output_type": "stream",
     "text": [
      "\u001b[1m\u001b[22m`geom_smooth()` using formula = 'y ~ x'\n"
     ]
    },
    {
     "data": {
      "image/png": "[encoded data removed]",
      "text/plain": [
       "plot without title"
      ]
     },
     "metadata": {
      "image/png": {
       "height": 420,
       "width": 420
      }
     },
     "output_type": "display_data"
    }
   ],
   "source": [
    "realSum_cleanliness_rating_scatterplot <-\n",
    "    airbnb_clean_filtered |>\n",
    "    ggplot() +\n",
    "    geom_point(aes(x = guest_satisfaction_overall, y = realSum, color = room_type)) +\n",
    "    geom_smooth(method = \"lm\", aes(x = guest_satisfaction_overall, y = realSum, color = room_type)) +\n",
    "    coord_cartesian(ylim = c(0, 2500)) +\n",
    "    labs(title = \"Airbnb Prices vs Cleaniness Score for each room type\", x = \"Cleaniness Rating Score\", y = \"Listing Price (USD)\", color = \"Room Type\")\n",
    "\n",
    "realSum_cleanliness_rating_scatterplot"
   ]
  },
  {
   "cell_type": "code",
   "execution_count": null,
   "id": "a5efd22f",
   "metadata": {
    "vscode": {
     "languageId": "r"
    }
   },
   "outputs": [],
   "source": []
  }
 ],
 "metadata": {
  "kernelspec": {
   "display_name": "R",
   "language": "R",
   "name": "ir"
  },
  "language_info": {
   "codemirror_mode": "r",
   "file_extension": ".r",
   "mimetype": "text/x-r-source",
   "name": "R",
   "pygments_lexer": "r",
   "version": "4.3.3"
  }
 },
 "nbformat": 4,
 "nbformat_minor": 5
}
